{
 "cells": [
  {
   "cell_type": "code",
   "execution_count": 1,
   "id": "af147844",
   "metadata": {},
   "outputs": [
    {
     "name": "stdout",
     "output_type": "stream",
     "text": [
      "6\n"
     ]
    }
   ],
   "source": [
    "a=3\n",
    "b=a*2\n",
    "print(b)"
   ]
  },
  {
   "cell_type": "code",
   "execution_count": 3,
   "id": "26c9c088",
   "metadata": {},
   "outputs": [
    {
     "name": "stdout",
     "output_type": "stream",
     "text": [
      "11\n"
     ]
    }
   ],
   "source": [
    "c=5\n",
    "d=6\n",
    "print(c+d)"
   ]
  },
  {
   "cell_type": "code",
   "execution_count": 4,
   "id": "50c5f519",
   "metadata": {},
   "outputs": [
    {
     "name": "stdout",
     "output_type": "stream",
     "text": [
      "Hello class welcome to CS150\n"
     ]
    }
   ],
   "source": [
    "print(\"Hello class welcome to CS150\")"
   ]
  },
  {
   "cell_type": "markdown",
   "id": "46c16782",
   "metadata": {},
   "source": [
    "# Heading1"
   ]
  },
  {
   "cell_type": "markdown",
   "id": "17c64c56",
   "metadata": {},
   "source": [
    "## Heading2"
   ]
  },
  {
   "cell_type": "markdown",
   "id": "1fe73e1a",
   "metadata": {},
   "source": [
    "### Heading3"
   ]
  },
  {
   "cell_type": "markdown",
   "id": "399c4344",
   "metadata": {},
   "source": [
    "#### Heading4"
   ]
  },
  {
   "cell_type": "markdown",
   "id": "d2754b4a",
   "metadata": {},
   "source": [
    "##### Heading5"
   ]
  },
  {
   "cell_type": "markdown",
   "id": "6389a2e3",
   "metadata": {},
   "source": [
    "###### Heading6"
   ]
  },
  {
   "cell_type": "markdown",
   "id": "c5f74aff",
   "metadata": {},
   "source": [
    ">This is a good day"
   ]
  },
  {
   "cell_type": "markdown",
   "id": "7f01f03a",
   "metadata": {},
   "source": [
    "* List 1"
   ]
  },
  {
   "cell_type": "markdown",
   "id": "89fa6888",
   "metadata": {},
   "source": [
    "* List 2"
   ]
  },
  {
   "cell_type": "markdown",
   "id": "7bf2d2d3",
   "metadata": {},
   "source": [
    "1.  Ordered List 1"
   ]
  },
  {
   "cell_type": "markdown",
   "id": "daf91c34",
   "metadata": {},
   "source": [
    "2. Ordered List 2"
   ]
  },
  {
   "cell_type": "markdown",
   "id": "7173ff9d",
   "metadata": {},
   "source": [
    "**These are bold words**"
   ]
  },
  {
   "cell_type": "markdown",
   "id": "4a1a63bd",
   "metadata": {},
   "source": [
    "*These are italicized words*"
   ]
  },
  {
   "cell_type": "markdown",
   "id": "8667abb9",
   "metadata": {},
   "source": [
    "`Here is a code for printing statements`"
   ]
  },
  {
   "cell_type": "markdown",
   "id": "d21b53ea",
   "metadata": {},
   "source": [
    "<a href=\"https://www.google.com\">this link</a>"
   ]
  },
  {
   "cell_type": "markdown",
   "id": "a07e7d40",
   "metadata": {},
   "source": [
    "![Car](https://www.publicdomainpictures.net/pictures/400000/velka/ferrari-car-1621615931jR9.jpg)"
   ]
  },
  {
   "cell_type": "code",
   "execution_count": null,
   "id": "1ace71f3",
   "metadata": {},
   "outputs": [],
   "source": []
  }
 ],
 "metadata": {
  "kernelspec": {
   "display_name": "Python 3 (ipykernel)",
   "language": "python",
   "name": "python3"
  },
  "language_info": {
   "codemirror_mode": {
    "name": "ipython",
    "version": 3
   },
   "file_extension": ".py",
   "mimetype": "text/x-python",
   "name": "python",
   "nbconvert_exporter": "python",
   "pygments_lexer": "ipython3",
   "version": "3.9.12"
  }
 },
 "nbformat": 4,
 "nbformat_minor": 5
}
